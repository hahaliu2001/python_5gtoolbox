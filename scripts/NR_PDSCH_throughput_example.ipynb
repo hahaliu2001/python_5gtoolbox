{
 "cells": [
  {
   "cell_type": "markdown",
   "id": "b38b4d74",
   "metadata": {},
   "source": [
    "# NR PDSCH Throughput simulation\n",
    "this example is similar to Matlat 5G toolbox [NR PDSCH Throughput example ](https://www.mathworks.com/help/5g/ug/nr-pdsch-throughput.html#NewRadioPDSCHThroughputExample-13) to measure NR PDSCH throughput\n",
    "\n",
    "The example models these 5G NR features:\n",
    "\n",
    "* DL-SCH transport channel coding\n",
    "\n",
    "* PDSCH, PDSCH DM-RS\n",
    "* 15Khz or 30KHz subcarrier spacing\n",
    "* support wideband precoding, do not support subband precoding\n",
    "\n",
    "Channel model support:\n",
    "* tapped delay line (TDL) propagation channels and customized propagation channel\n",
    "* MIMO channel: Uniform Linear Array and cross polarized antennas MIMO Correlation Matrices with [high,medium,low] correlation\n",
    "    detailed information defined in TS38.101-4, TS38.104, TS36.101, TS36.104\n",
    "* fractional timing error\n",
    "* crystal oscillator error between transmitter and receiver which causes frequency error, timing error increasing,sampling errir\n",
    "* doppler frequency\n",
    "\n",
    "Receiver support:\n",
    "* Perfect or practical synchronization and channel estimation\n",
    "* channel estimation and timing and frequency estimation and compensation\n",
    "* ZF/MMSE/MMSE-IRC/ML eualization algorithms\n",
    "* Rank, PMI and CQI estimation\n",
    "\n",
    "The figure shows the implemented processing chain, low-phy processing includes FFT/IFFT, DUC/DDC\n",
    "\n",
    "``` mermaid\n",
    "graph LR\n",
    "A[DL-SCH] -->B(PDSCH and DMRS) --> C[Precoding] --> D[low-phy]-->D2[channel model]-->D3[low phy receiver]\n",
    "\n",
    "-->D4[channel estimation]-->D5[PSCH decoding]-->D6[DL-SCH decoding]\n",
    "\n",
    "```"
   ]
  },
  {
   "cell_type": "markdown",
   "id": "b94c9182",
   "metadata": {},
   "source": [
    "## Simulation configuration"
   ]
  },
  {
   "cell_type": "code",
   "execution_count": 6,
   "id": "db12f6f9",
   "metadata": {},
   "outputs": [],
   "source": [
    "import numpy as np\n",
    "num_of_sim = 2 #number of simulation\n",
    "SNR_in_dB_list = np.arange(-4, 4, 0.5).tolist() # SNR range"
   ]
  },
  {
   "cell_type": "code",
   "execution_count": 7,
   "id": "0cc068cc",
   "metadata": {},
   "outputs": [
    {
     "name": "stdout",
     "output_type": "stream",
     "text": [
      "/Users/jieliu/jie_github/python_5gtoolbox\n",
      "/Users/jieliu/jie_github\n"
     ]
    }
   ],
   "source": [
    "import os\n",
    "print(os.getcwd())\n",
    "os.chdir('..')\n",
    "print(os.getcwd())"
   ]
  },
  {
   "cell_type": "markdown",
   "id": "7e58ca73",
   "metadata": {},
   "source": [
    "## waveform and carrier  configuration"
   ]
  },
  {
   "cell_type": "code",
   "execution_count": null,
   "id": "a28e8c1b",
   "metadata": {},
   "outputs": [],
   "source": []
  },
  {
   "cell_type": "code",
   "execution_count": null,
   "id": "e7b279a7",
   "metadata": {},
   "outputs": [
    {
     "name": "stdout",
     "output_type": "stream",
     "text": [
      "/Users/jieliu/jie_github\n"
     ]
    },
    {
     "ename": "FileNotFoundError",
     "evalue": "[Errno 2] No such file or directory: 'py5gphy/nr_default_config/default_DL_waveform_config.json'",
     "output_type": "error",
     "traceback": [
      "\u001b[31m---------------------------------------------------------------------------\u001b[39m",
      "\u001b[31mFileNotFoundError\u001b[39m                         Traceback (most recent call last)",
      "\u001b[36mCell\u001b[39m\u001b[36m \u001b[39m\u001b[32mIn[8]\u001b[39m\u001b[32m, line 5\u001b[39m\n\u001b[32m      3\u001b[39m \u001b[38;5;66;03m#first read default configuration\u001b[39;00m\n\u001b[32m      4\u001b[39m \u001b[38;5;28;01mfrom\u001b[39;00m\u001b[38;5;250m \u001b[39m\u001b[34;01mscripts\u001b[39;00m\u001b[34;01m.\u001b[39;00m\u001b[34;01minternal\u001b[39;00m\u001b[38;5;250m \u001b[39m\u001b[38;5;28;01mimport\u001b[39;00m default_config_files\n\u001b[32m----> \u001b[39m\u001b[32m5\u001b[39m default_DL_config = \u001b[43mdefault_config_files\u001b[49m\u001b[43m.\u001b[49m\u001b[43mread_DL_default_config_files\u001b[49m\u001b[43m(\u001b[49m\u001b[43m)\u001b[49m\n\u001b[32m      6\u001b[39m waveform_config = default_DL_config[\u001b[33m\"\u001b[39m\u001b[33mDL_waveform_config\u001b[39m\u001b[33m\"\u001b[39m]\n\u001b[32m      7\u001b[39m carrier_config = default_DL_config[\u001b[33m\"\u001b[39m\u001b[33mDL_carrier_config\u001b[39m\u001b[33m\"\u001b[39m]\n",
      "\u001b[36mFile \u001b[39m\u001b[32m~/jie_github/python_5gtoolbox/scripts/internal/default_config_files.py:9\u001b[39m, in \u001b[36mread_DL_default_config_files\u001b[39m\u001b[34m()\u001b[39m\n\u001b[32m      6\u001b[39m \u001b[38;5;28;01mdef\u001b[39;00m\u001b[38;5;250m \u001b[39m\u001b[34mread_DL_default_config_files\u001b[39m():\n\u001b[32m      7\u001b[39m     path = \u001b[33m\"\u001b[39m\u001b[33mpy5gphy/nr_default_config/\u001b[39m\u001b[33m\"\u001b[39m\n\u001b[32m----> \u001b[39m\u001b[32m9\u001b[39m     \u001b[38;5;28;01mwith\u001b[39;00m \u001b[38;5;28;43mopen\u001b[39;49m\u001b[43m(\u001b[49m\u001b[43mpath\u001b[49m\u001b[43m \u001b[49m\u001b[43m+\u001b[49m\u001b[43m \u001b[49m\u001b[33;43m\"\u001b[39;49m\u001b[33;43mdefault_DL_waveform_config.json\u001b[39;49m\u001b[33;43m\"\u001b[39;49m\u001b[43m,\u001b[49m\u001b[43m \u001b[49m\u001b[33;43m'\u001b[39;49m\u001b[33;43mr\u001b[39;49m\u001b[33;43m'\u001b[39;49m\u001b[43m)\u001b[49m \u001b[38;5;28;01mas\u001b[39;00m f:\n\u001b[32m     10\u001b[39m         DL_waveform_config = json.load(f)\n\u001b[32m     11\u001b[39m     \u001b[38;5;28;01mwith\u001b[39;00m \u001b[38;5;28mopen\u001b[39m(path + \u001b[33m\"\u001b[39m\u001b[33mdefault_DL_carrier_config.json\u001b[39m\u001b[33m\"\u001b[39m, \u001b[33m'\u001b[39m\u001b[33mr\u001b[39m\u001b[33m'\u001b[39m) \u001b[38;5;28;01mas\u001b[39;00m f:\n",
      "\u001b[31mFileNotFoundError\u001b[39m: [Errno 2] No such file or directory: 'py5gphy/nr_default_config/default_DL_waveform_config.json'"
     ]
    }
   ],
   "source": [
    "import os\n",
    "print(os.getcwd())\n",
    "#first read default configuration\n",
    "from scripts.internal import default_config_files\n",
    "default_DL_config = default_config_files.read_DL_default_config_files()\n",
    "waveform_config = default_DL_config[\"DL_waveform_config\"]\n",
    "carrier_config = default_DL_config[\"DL_carrier_config\"]\n",
    "pdsch_config = default_DL_config[\"pdsch_config\"]  \n",
    "\n",
    "#set waveform config\n",
    "waveform_config[\"numofslots\"] = 10 #waveform length \n",
    "waveform_config[\"samplerate_in_mhz\"] = 30.72*8 #usually it is 30.72MHz*[4,8,16,32]\n",
    "\n",
    "#set carrier config\n",
    "carrier_config[\"BW\"] = 40 #bandwidth in MHz\n",
    "carrier_config[\"scs\"] = 30 #15khz or 30KHz\n",
    "carrier_config[\"PCI\"] = 1 #physical layer cell identity in range 0 - 1007\n",
    "carrier_config[\"carrier_frequency_in_mhz\"] = 3840 #carrier central freq\n",
    "carrier_config[\"num_of_ant\"] = 1 #number of Tx antenna\n",
    "carrier_config[\"Nr\"] = 1 #number of Rx antenna\n",
    "carrier_config[\"maxMIMO_layers\"] = min(min(4,carrier_config[\"num_of_ant\"]),carrier_config[\"Nr\"])\n",
    "\n"
   ]
  },
  {
   "cell_type": "markdown",
   "id": "aa286a17",
   "metadata": {},
   "source": [
    "## PDSCH configuration"
   ]
  },
  {
   "cell_type": "code",
   "execution_count": null,
   "id": "fbe1a66b",
   "metadata": {},
   "outputs": [],
   "source": [
    "#set PDSCH config, pdsch_config_list contain one PDSCH config\n",
    "pdsch_config[\"mcs_index\"] = 10 \n",
    "pdsch_config[\"num_of_layers\"] = 1 #this value should be <= carrier_config[\"maxMIMO_layers\"]\n",
    "\n",
    "#PDSCH DMRS\n",
    "pdsch_config[\"DMRS\"][\"NrOfDMRSSymbols\"] = 1 #1: single symbol,  2: double symbol\n",
    "pdsch_config[\"DMRS\"][\"NumCDMGroupsWithoutData\"] = 1\n",
    "pdsch_config[\"DMRS\"][\"DMRSAddPos\"] = 1\n",
    "pdsch_config[\"DMRS\"][\"PDSCHMappintType\"] = \"A\"\n",
    "\n",
    "#PDSCH resources\n",
    "pdsch_config[\"StartSymbolIndex\"] = 2\n",
    "pdsch_config[\"NrOfSymbols\"] = 12\n",
    "pdsch_config[\"ResAlloType1\"][\"RBStart\"] = 0\n",
    "pdsch_config[\"ResAlloType1\"][\"RBSize\"] = 100 #make sure this value <= carrier BW supported PRB size\n",
    "\n",
    "#PDSCh codebook\n",
    "pdsch_config[\"codebook\"][\"enable\"] = False # no codebook based precoding\n",
    "pdsch_config[\"precoding_matrix\"] = []  #use identity matrix\n",
    "\n",
    "#add pdsch_config to pdsch_config_list\n",
    "pdsch_config_list = []\n",
    "pdsch_config_list.append(pdsch_config)"
   ]
  },
  {
   "cell_type": "markdown",
   "id": "39dcd1cc",
   "metadata": {},
   "source": [
    "## wireless channel configuration"
   ]
  },
  {
   "cell_type": "code",
   "execution_count": null,
   "id": "78d08aba",
   "metadata": {},
   "outputs": [],
   "source": [
    "channel_model_config = default_config_files.read_default_channel_model_config()\n",
    "channel_model_config[\"Nt\"] = carrier_config[\"num_of_ant\"] #Tx antenna number\n",
    "channel_model_config[\"Nr\"] = carrier_config[\"Nr\"]         #Rx antenna number\n",
    "channel_model_config[\"Timeoff_ns\"] = 30 #Tx to Rx timing offset in ns\n",
    "channel_model_config[\"rho\"] = 0 #transmitter relative frequency error\n",
    "channel_model_config[\"fm_inHz\"] = 0 #maximum doppler frequency offset in Hz\n",
    "channel_model_config[\"Rspat\"] = [1] #MIMO correlation matrix, should be (Nt*Nr)X(Nt*Nr) matrix\n",
    "channel_model_config[\"Pnoise_dB\"] = -10 #noise power in dB\n",
    "#\"delay in ns, power in dB, Rayleigh or Rician, K in dB for Rician， fDo(doppler freq in hz) for Rician\",\n",
    "channel_model_config[\"multi_paths\"] = [[0,0,\"Rayleigh\",0,0],[0,0,\"Rician\",13.3,10]]\n",
    "channel_model_config[\"fi_inHz\"] = carrier_config[\"carrier_frequency_in_mhz\"] * 10**6 #\"carrier frequency in Hz\",\n",
    "channel_model_config[\"fs_inHz\"] = waveform_config[\"samplerate_in_mhz\"] * 10**6 #time domain data sample rate in Hz\n",
    "channel_model_config[\"scs\"] = carrier_config[\"scs\"]\n"
   ]
  },
  {
   "cell_type": "markdown",
   "id": "b447d393",
   "metadata": {},
   "source": [
    "## receiver configuration"
   ]
  },
  {
   "cell_type": "code",
   "execution_count": null,
   "id": "db663a2c",
   "metadata": {},
   "outputs": [],
   "source": [
    "# channel estimation\n",
    "Cest_methods = [\"normal\"]\n",
    "channel_est_mode = \"practical\"  # option: [\"perfect\",\"practical\"]\n",
    "#channel equalization\n",
    "Cequ_methods = [\"ZF\", \"MMSE\"] #options in [\"ZF\", \"MMSE\", \"MMSE-IRC\", \"ML\"]"
   ]
  },
  {
   "cell_type": "markdown",
   "id": "3c313459",
   "metadata": {},
   "source": [
    "## Processing\n"
   ]
  },
  {
   "cell_type": "code",
   "execution_count": null,
   "id": "d9b55dbe",
   "metadata": {},
   "outputs": [
    {
     "ename": "NameError",
     "evalue": "name 'Rspat' is not defined",
     "output_type": "error",
     "traceback": [
      "\u001b[31m---------------------------------------------------------------------------\u001b[39m",
      "\u001b[31mNameError\u001b[39m                                 Traceback (most recent call last)",
      "\u001b[36mCell\u001b[39m\u001b[36m \u001b[39m\u001b[32mIn[38]\u001b[39m\u001b[32m, line 11\u001b[39m\n\u001b[32m      8\u001b[39m \u001b[38;5;66;03m#init\u001b[39;00m\n\u001b[32m     10\u001b[39m \u001b[38;5;28;01mfor\u001b[39;00m snr_db \u001b[38;5;129;01min\u001b[39;00m SNR_in_dB_list:\n\u001b[32m---> \u001b[39m\u001b[32m11\u001b[39m     nrChannelMode = \u001b[43mnr_channel_model\u001b[49m\u001b[43m.\u001b[49m\u001b[43mNrChannelModel\u001b[49m\u001b[43m(\u001b[49m\u001b[43mchannel_model_config\u001b[49m\u001b[43m,\u001b[49m\n\u001b[32m     12\u001b[39m \u001b[43m    \u001b[49m\u001b[43mPnoise_dB\u001b[49m\u001b[43m=\u001b[49m\u001b[43msnr_db\u001b[49m\u001b[43m,\u001b[49m\u001b[43m \u001b[49m\n\u001b[32m     13\u001b[39m \u001b[43m    \u001b[49m\u001b[43mfi_inHz\u001b[49m\u001b[43m=\u001b[49m\u001b[43mcarrier_config\u001b[49m\u001b[43m[\u001b[49m\u001b[33;43m\"\u001b[39;49m\u001b[33;43mcarrier_frequency_in_mhz\u001b[39;49m\u001b[33;43m\"\u001b[39;49m\u001b[43m]\u001b[49m\u001b[43m \u001b[49m\u001b[43m*\u001b[49m\u001b[43m \u001b[49m\u001b[32;43m10\u001b[39;49m\u001b[43m*\u001b[49m\u001b[43m*\u001b[49m\u001b[32;43m6\u001b[39;49m\u001b[43m,\u001b[49m\u001b[43m \u001b[49m\u001b[38;5;66;43;03m#carrier frequency in Hz\"\u001b[39;49;00m\n\u001b[32m     14\u001b[39m \u001b[43m    \u001b[49m\u001b[43mfs_inHz\u001b[49m\u001b[43m \u001b[49m\u001b[43m=\u001b[49m\u001b[43m \u001b[49m\u001b[43mwaveform_config\u001b[49m\u001b[43m[\u001b[49m\u001b[33;43m\"\u001b[39;49m\u001b[33;43msamplerate_in_mhz\u001b[39;49m\u001b[33;43m\"\u001b[39;49m\u001b[43m]\u001b[49m\u001b[43m \u001b[49m\u001b[43m*\u001b[49m\u001b[43m \u001b[49m\u001b[32;43m10\u001b[39;49m\u001b[43m*\u001b[49m\u001b[43m*\u001b[49m\u001b[32;43m6\u001b[39;49m\u001b[43m,\u001b[49m\u001b[43m \u001b[49m\u001b[38;5;66;43;03m#time domain data sample rate in Hz\u001b[39;49;00m\n\u001b[32m     15\u001b[39m \u001b[43m    \u001b[49m\u001b[43mscs\u001b[49m\u001b[43m \u001b[49m\u001b[43m=\u001b[49m\u001b[43m  \u001b[49m\u001b[43mcarrier_config\u001b[49m\u001b[43m[\u001b[49m\u001b[33;43m\"\u001b[39;49m\u001b[33;43mscs\u001b[39;49m\u001b[33;43m\"\u001b[39;49m\u001b[43m]\u001b[49m\u001b[43m)\u001b[49m\n\u001b[32m     17\u001b[39m         \u001b[38;5;66;03m#\u001b[39;00m\n",
      "\u001b[36mFile \u001b[39m\u001b[32m~/jie_github/python_5gtoolbox/py5gphy/channel_model/nr_channel_model.py:34\u001b[39m, in \u001b[36mNrChannelModel.__init__\u001b[39m\u001b[34m(self, channel_model_config, Pnoise_dB, fi_inHz, fs_inHz, scs)\u001b[39m\n\u001b[32m     32\u001b[39m \u001b[38;5;28;01massert\u001b[39;00m \u001b[38;5;28mself\u001b[39m.Nt \u001b[38;5;129;01min\u001b[39;00m [\u001b[32m1\u001b[39m,\u001b[32m2\u001b[39m,\u001b[32m4\u001b[39m,\u001b[32m8\u001b[39m]\n\u001b[32m     33\u001b[39m \u001b[38;5;28;01massert\u001b[39;00m \u001b[38;5;28mself\u001b[39m.Nr \u001b[38;5;129;01min\u001b[39;00m [\u001b[32m1\u001b[39m,\u001b[32m2\u001b[39m,\u001b[32m4\u001b[39m,\u001b[32m8\u001b[39m]\n\u001b[32m---> \u001b[39m\u001b[32m34\u001b[39m \u001b[38;5;28;01mif\u001b[39;00m \u001b[43mRspat\u001b[49m.shape[\u001b[32m0\u001b[39m] == \u001b[32m1\u001b[39m:\n\u001b[32m     35\u001b[39m     \u001b[38;5;28;01massert\u001b[39;00m \u001b[38;5;28mself\u001b[39m.Rspat.shape[\u001b[32m0\u001b[39m]==Nt*Nr\n\u001b[32m     36\u001b[39m \u001b[38;5;28;01melse\u001b[39;00m:\n",
      "\u001b[31mNameError\u001b[39m: name 'Rspat' is not defined"
     ]
    }
   ],
   "source": [
    "from  py5gphy.channel_model import nr_channel_model\n",
    "#first generate all testcases based on Cest methodm Cequ methods\n",
    "testcases = []\n",
    "for Cest_method in Cest_methods:\n",
    "    for Cequ_method in Cequ_methods:\n",
    "        testcases.append([Cest_method,Cequ_method])\n",
    "\n",
    "#init\n",
    "\n",
    "for snr_db in SNR_in_dB_list:\n",
    "    nrChannelMode = nr_channel_model.NrChannelModel(channel_model_config,\n",
    "    Pnoise_dB=snr_db, \n",
    "    fi_inHz=carrier_config[\"carrier_frequency_in_mhz\"] * 10**6, #carrier frequency in Hz\"\n",
    "    fs_inHz = waveform_config[\"samplerate_in_mhz\"] * 10**6, #time domain data sample rate in Hz\n",
    "    scs =  carrier_config[\"scs\"])\n",
    "    \n",
    "        #\n"
   ]
  }
 ],
 "metadata": {
  "kernelspec": {
   "display_name": "poetry-python-template-py3.11 (3.11.1)",
   "language": "python",
   "name": "python3"
  },
  "language_info": {
   "codemirror_mode": {
    "name": "ipython",
    "version": 3
   },
   "file_extension": ".py",
   "mimetype": "text/x-python",
   "name": "python",
   "nbconvert_exporter": "python",
   "pygments_lexer": "ipython3",
   "version": "3.11.1"
  }
 },
 "nbformat": 4,
 "nbformat_minor": 5
}
